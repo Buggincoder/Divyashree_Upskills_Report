{
 "cells": [
  {
   "cell_type": "code",
   "execution_count": 8,
   "id": "05eb9d46",
   "metadata": {},
   "outputs": [],
   "source": [
    "import tkinter as tk\n",
    "\n",
    "class Calculator:\n",
    "    def __init__(self, master):\n",
    "        self.master = master\n",
    "        self.master.title(\"Calculator\")\n",
    "        \n",
    "        # Entry widget to display the current input\n",
    "        self.entry_var = tk.StringVar()\n",
    "        entry = tk.Entry(master, textvariable=self.entry_var, font=('Arial', 14), bd=10, insertwidth=5, width=20, justify='right')\n",
    "        entry.grid(row=0, column=0, columnspan=4)\n",
    "\n",
    "        # Button layout\n",
    "        buttons = [\n",
    "            ('7', 1, 0), ('8', 1, 1), ('9', 1, 2), ('/', 1, 3),\n",
    "            ('4', 2, 0), ('5', 2, 1), ('6', 2, 2), ('*', 2, 3),\n",
    "            ('1', 3, 0), ('2', 3, 1), ('3', 3, 2), ('-', 3, 3),\n",
    "            ('0', 4, 0), ('C', 4, 1), ('=', 4, 2), ('+', 4, 3)\n",
    "        ]\n",
    "\n",
    "        # Create buttons and assign command functions\n",
    "        for (text, row, col) in buttons:\n",
    "            button = tk.Button(master, text=text, padx=20, pady=20, font=('Arial', 14), command=lambda t=text: self.button_click(t))\n",
    "            button.grid(row=row, column=col)\n",
    "\n",
    "    def button_click(self, value):\n",
    "        current_input = self.entry_var.get()\n",
    "\n",
    "        if value == 'C':\n",
    "            self.entry_var.set('')\n",
    "        elif value == '=':\n",
    "            try:\n",
    "                result = eval(current_input)\n",
    "                self.entry_var.set(result)\n",
    "            except Exception as e:\n",
    "                self.entry_var.set('Error')\n",
    "        else:\n",
    "            self.entry_var.set(current_input + value)\n",
    "\n",
    "def main():\n",
    "    root = tk.Tk()\n",
    "    calculator = Calculator(root)\n",
    "    root.mainloop()\n",
    "\n",
    "if __name__ == \"__main__\":\n",
    "    main()\n"
   ]
  },
  {
   "cell_type": "code",
   "execution_count": null,
   "id": "d6883d7b",
   "metadata": {},
   "outputs": [],
   "source": []
  }
 ],
 "metadata": {
  "kernelspec": {
   "display_name": "Python 3",
   "language": "python",
   "name": "python3"
  },
  "language_info": {
   "codemirror_mode": {
    "name": "ipython",
    "version": 3
   },
   "file_extension": ".py",
   "mimetype": "text/x-python",
   "name": "python",
   "nbconvert_exporter": "python",
   "pygments_lexer": "ipython3",
   "version": "3.8.8"
  }
 },
 "nbformat": 4,
 "nbformat_minor": 5
}
